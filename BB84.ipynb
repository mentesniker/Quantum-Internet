{
 "cells": [
  {
   "cell_type": "markdown",
   "source": [
    "# Generador de bits aleatorios"
   ],
   "metadata": {}
  },
  {
   "cell_type": "markdown",
   "source": [
    "Primero, veamos como crear un qubit en superposicion:"
   ],
   "metadata": {}
  },
  {
   "cell_type": "code",
   "execution_count": 1,
   "source": [
    "from qiskit import QuantumCircuit, execute, Aer\n",
    "qubits = QuantumCircuit(1,1)"
   ],
   "outputs": [],
   "metadata": {}
  },
  {
   "cell_type": "markdown",
   "source": [
    "Ahora veamos como lo podemos poner en superposicion: "
   ],
   "metadata": {}
  },
  {
   "cell_type": "code",
   "execution_count": 2,
   "source": [
    "qubits.h(0)"
   ],
   "outputs": [
    {
     "output_type": "execute_result",
     "data": {
      "text/plain": [
       "<qiskit.circuit.instructionset.InstructionSet at 0x7ff4de9c92e0>"
      ]
     },
     "metadata": {},
     "execution_count": 2
    }
   ],
   "metadata": {}
  },
  {
   "cell_type": "markdown",
   "source": [
    "Finalmente, veamos como podemos hacer una medicion: "
   ],
   "metadata": {}
  },
  {
   "cell_type": "code",
   "execution_count": 3,
   "source": [
    "qubits.measure(0,0)"
   ],
   "outputs": [
    {
     "output_type": "execute_result",
     "data": {
      "text/plain": [
       "<qiskit.circuit.instructionset.InstructionSet at 0x7ff4de9c96a0>"
      ]
     },
     "metadata": {},
     "execution_count": 3
    }
   ],
   "metadata": {}
  },
  {
   "cell_type": "markdown",
   "source": [
    "Ahora para ejecutar las operaciones anteriores debemos de ejecutar las siguientes lineas:"
   ],
   "metadata": {}
  },
  {
   "cell_type": "code",
   "execution_count": 13,
   "source": [
    "backend = Aer.get_backend('qasm_simulator')\n",
    "execute(qubits, backend, shots=1, memory=True).result().get_memory()[0]"
   ],
   "outputs": [
    {
     "output_type": "execute_result",
     "data": {
      "text/plain": [
       "'0'"
      ]
     },
     "metadata": {},
     "execution_count": 13
    }
   ],
   "metadata": {}
  },
  {
   "cell_type": "markdown",
   "source": [
    "Ahora si lo ponemos en un metodo, quedaria de la siguiente forma:"
   ],
   "metadata": {}
  },
  {
   "cell_type": "code",
   "execution_count": 14,
   "source": [
    "def get_random_bit():\n",
    "    qubits = QuantumCircuit(1,1)\n",
    "    qubits.h(0)\n",
    "    qubits.measure(0,0)\n",
    "    return int(execute(qubits, backend, shots=1, memory=True).result().get_memory()[0])"
   ],
   "outputs": [],
   "metadata": {}
  },
  {
   "cell_type": "code",
   "execution_count": 22,
   "source": [
    "get_random_bit()"
   ],
   "outputs": [
    {
     "output_type": "execute_result",
     "data": {
      "text/plain": [
       "1"
      ]
     },
     "metadata": {},
     "execution_count": 22
    }
   ],
   "metadata": {}
  },
  {
   "cell_type": "markdown",
   "source": [
    "# Protocolo BB84 para intercambio de llaves."
   ],
   "metadata": {}
  },
  {
   "cell_type": "markdown",
   "source": [
    "## Repaso:\n",
    "Recordemos que el protocolo BB84 funciona de la siguiente manera:\n",
    "- Alicia elige una cadena aleatoria de bits. Después encripta esa cadena aleatoria seleccionando aleatoriamente una compuerta que puede ser la compuerta Hadamard o la identidad.\n",
    "- Alicia manda los qubits a Bob que son el resultado del paso anterior.\n",
    "- Bob aplica un compuerta aleatoria a los qubits que recibe de Alice. La compuerta puede ser una compuerta Hadamard o la identidad.\n",
    "- Alicia manda a Bob que compuerta uso en cada qubit.\n",
    "- Bob revisa si Alicia y el usaron la misma compuerta en cada qubit. Si lo hicieron le manda un mensaje a Alicia con el indice qubit en el que aplicaron la misma compuerta.\n",
    "- Ahora Alicia y Bob tienen una cadena aleatoria compartida."
   ],
   "metadata": {}
  },
  {
   "cell_type": "markdown",
   "source": [
    "## Implementacion\n",
    "Primero emepecemos con unos imports de ciertas bibliotecas que necesitamos."
   ],
   "metadata": {}
  },
  {
   "cell_type": "code",
   "execution_count": 4,
   "source": [
    "%matplotlib inline\n",
    "from qiskit.tools.jupyter import *"
   ],
   "outputs": [],
   "metadata": {}
  },
  {
   "cell_type": "markdown",
   "source": [
    "En la siguiente celda podemos ver como Alicia prepara una cadena aleatoria y la encripta."
   ],
   "metadata": {}
  },
  {
   "cell_type": "code",
   "execution_count": 32,
   "source": [
    "#Computadora de Alicia, Bob no sabe que esta pasando aqui.\n",
    "m0 = ''.join([str(get_random_bit()) for _ in range(256)])\n",
    "Alice_bases = [get_random_bit() for _ in range(256)]\n",
    "qubits = list()\n",
    "for i in range(len(Alice_bases)):\n",
    "    mycircuit = QuantumCircuit(1,1)\n",
    "    if(Alice_bases[i] == 0):\n",
    "        if(m0[i] == \"1\"):\n",
    "            mycircuit.x(0)\n",
    "    else:\n",
    "        if(m0[i] == \"0\"):\n",
    "            mycircuit.h(0)\n",
    "        else:\n",
    "            mycircuit.x(0)\n",
    "            mycircuit.h(0)\n",
    "    qubits.append(mycircuit)"
   ],
   "outputs": [],
   "metadata": {}
  },
  {
   "cell_type": "markdown",
   "source": [
    "En la siguiente celda Bob aplica una compuerta de manera aleatoria a los qubits que recibe de Alice. "
   ],
   "metadata": {}
  },
  {
   "cell_type": "code",
   "execution_count": 33,
   "source": [
    "#Computadora de Bob, Alicia no puede ver lo que esta pasando aqui.\n",
    "Bob_bases = [get_random_bit() for _ in range(256)]\n",
    "measurements = list()\n",
    "for i in range(len(Bob_bases)):\n",
    "    qubit = qubits[i]\n",
    "    if(Bob_bases[i] == 0):\n",
    "        qubit.measure(0,0)\n",
    "    else:\n",
    "        qubit.h(0)\n",
    "        qubit.measure(0,0)\n",
    "    result = execute(qubit, backend, shots=1, memory=True).result()\n",
    "    measurements.append(int(result.get_memory()[0]))"
   ],
   "outputs": [],
   "metadata": {}
  },
  {
   "cell_type": "markdown",
   "source": [
    "Después, Alicia le manda a Bob las compuertas que utilizo en cada qubit. Si Bob encuentra que aplicaron las mismas, entonces guarda el indice del qubit en el que las aplicaron."
   ],
   "metadata": {}
  },
  {
   "cell_type": "code",
   "execution_count": 34,
   "source": [
    "#Computadora de Bob, Alicia no puede ver lo que esta pasando aqui.\n",
    "I0 = list()\n",
    "for i in range(len(Alice_bases)):\n",
    "    if(Alice_bases[i] == Bob_bases[i]):\n",
    "        I0.append(i)"
   ],
   "outputs": [],
   "metadata": {}
  },
  {
   "cell_type": "markdown",
   "source": [
    "Finalmente, ambos toman los indices que tienen en comun y se termina el protocolo. En la siguiente celda se hace una verificacion rapida para ver que realmente ambos tienen la misma cadena compartida."
   ],
   "metadata": {}
  },
  {
   "cell_type": "code",
   "execution_count": 35,
   "source": [
    "#Celda de prueba para comprobar que son iguales las llaves\n",
    "keyAlice = ''.join([m0[x] for x in I0])\n",
    "keyBob = ''.join([str(measurements[x]) for x in I0])\n",
    "print(keyAlice)\n",
    "print(keyBob)\n",
    "print(\"La llave de Alicia es igual a la de Bob? \" + str(keyAlice == keyBob))"
   ],
   "outputs": [
    {
     "output_type": "stream",
     "name": "stdout",
     "text": [
      "1110100010100001011000111010011101001100110100110000100010100100000011111111111101101101101010001011000001010111110010001000110011\n",
      "1110100010100001011000111010011101001100110100110000100010100100000011111111111101101101101010001011000001010111110010001000110011\n",
      "La llave de Alicia es igual a la de Bob? True\n"
     ]
    }
   ],
   "metadata": {}
  },
  {
   "cell_type": "markdown",
   "source": [
    "## One time-pads"
   ],
   "metadata": {}
  },
  {
   "cell_type": "markdown",
   "source": [
    "Ahora veamos como se pueden aplicar las llaves anteriores a un cifrado de tipo one time-pads. Pero primero definamos dos funciones para convertir bits a strings y strings a bits."
   ],
   "metadata": {}
  },
  {
   "cell_type": "code",
   "execution_count": 36,
   "source": [
    "def tobits(s):\n",
    "    result = []\n",
    "    for c in s:\n",
    "        bits = bin(ord(c))[2:]\n",
    "        bits = '00000000'[len(bits):] + bits\n",
    "        result.extend([int(b) for b in bits])\n",
    "    return ''.join([str(x) for x in result])\n",
    "\n",
    "def frombits(bits):\n",
    "    chars = []\n",
    "    for b in range(int(len(bits) / 8)):\n",
    "        byte = bits[b*8:(b+1)*8]\n",
    "        chars.append(chr(int(''.join([str(bit) for bit in byte]), 2)))\n",
    "    return ''.join(chars)"
   ],
   "outputs": [],
   "metadata": {}
  },
  {
   "cell_type": "markdown",
   "source": [
    "Después definamos la funcion de encriptacion que usará Alicia para encriptar su mensaje \"hola\". Cabe mencionar que como la llave que generamos es mucho más larga que la cadena que queremos encriptar, solo tomaremos los primeros n bits de la llave para que concida la longitud de esta con la longitud de la cadena."
   ],
   "metadata": {}
  },
  {
   "cell_type": "code",
   "execution_count": 37,
   "source": [
    "#Computadora de Alicia\n",
    "AliceMessage = \"hola\"\n",
    "AliceBitsMessage = tobits(AliceMessage)\n",
    "oneTimePadKey = keyAlice[0:len(AliceBitsMessage)]\n",
    "output = list()\n",
    "for bit in range(0, len(AliceBitsMessage)):\n",
    "    output.append(int(AliceBitsMessage[bit]) ^ int(oneTimePadKey[bit]))\n",
    "print(\"El mensaje encriptado es: \" + frombits(output))"
   ],
   "outputs": [
    {
     "output_type": "stream",
     "name": "stdout",
     "text": [
      "El mensaje encriptado es: Î\u000fÆ\n"
     ]
    }
   ],
   "metadata": {}
  },
  {
   "cell_type": "markdown",
   "source": [
    "En la siguiente celda, Bob desencriptara el mensaje de Alice usando su llave y obtendrá la cadena original que Alice queria mandar."
   ],
   "metadata": {}
  },
  {
   "cell_type": "code",
   "execution_count": 38,
   "source": [
    "#Computadora de Bob\n",
    "oneTimePadKey = keyBob[0:len(output)]\n",
    "original = list()\n",
    "for bit in range(0, len(AliceBitsMessage)):\n",
    "    original.append(int(output[bit]) ^ int(oneTimePadKey[bit]))\n",
    "print(\"El mensaje desencriptado es: \" + frombits(original))"
   ],
   "outputs": [
    {
     "output_type": "stream",
     "name": "stdout",
     "text": [
      "El mensaje desencriptado es: hola\n"
     ]
    }
   ],
   "metadata": {}
  }
 ],
 "metadata": {
  "kernelspec": {
   "name": "python3",
   "display_name": "Python 3.8.10 64-bit"
  },
  "language_info": {
   "codemirror_mode": {
    "name": "ipython",
    "version": 3
   },
   "file_extension": ".py",
   "mimetype": "text/x-python",
   "name": "python",
   "nbconvert_exporter": "python",
   "pygments_lexer": "ipython3",
   "version": "3.8.10"
  },
  "interpreter": {
   "hash": "916dbcbb3f70747c44a77c7bcd40155683ae19c65e1c03b4aa3499c5328201f1"
  }
 },
 "nbformat": 4,
 "nbformat_minor": 4
}
